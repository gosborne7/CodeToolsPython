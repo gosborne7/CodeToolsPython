{
  "nbformat": 4,
  "nbformat_minor": 0,
  "metadata": {
    "colab": {
      "provenance": [],
      "collapsed_sections": []
    },
    "kernelspec": {
      "name": "python3",
      "display_name": "Python 3"
    },
    "language_info": {
      "name": "python"
    },
    "accelerator": "GPU",
    "gpuClass": "standard"
  },
  "cells": [
    {
      "cell_type": "code",
      "execution_count": 1,
      "metadata": {
        "id": "NMLw31mMOb9A"
      },
      "outputs": [],
      "source": [
        "class Employee:\n",
        "  \n",
        "  \n",
        "  #class variable\n",
        "  raise_amount = 1.04\n",
        "  num_of_emps = 0\n",
        "  \n",
        "  def __init__(self, first, last, pay):\n",
        "    self.first = first\n",
        "    self.last = last\n",
        "    self.pay = pay\n",
        "    Employee.num_of_emps += 1\n",
        "\n",
        "\n",
        "    \n",
        "\n",
        "  def fullname(self):\n",
        "\n",
        "    return '{} {}'.format(emp.first, emp.last)\n",
        "\n",
        "  def __repr__(self):\n",
        "    return \"Employee('{}', '{}', {})\".format(self.first, self.last, self.pay)\n",
        "  \n",
        "  def __str__(self):\n",
        "     return '{} - {}'.format(self.fullname(),self.email)\n",
        "\n",
        "\n",
        "  @classmethod\n",
        "  def set_raise_amt(cls, amount):\n",
        "    cls.raise_amt = amount\n",
        "\n",
        "  @classmethod\n",
        "  def from_string(cls, emp_str):\n",
        "    first, last, pay = emp_str.split('.')\n",
        "    cls(first, last, pay)\n",
        "\n",
        "  @staticmethod\n",
        "  def is_workday(day):\n",
        "    if day.weekday() == 5 or day.weekday() == 6:\n",
        "      return False\n",
        "    \n",
        "\n",
        "  def apply_raise(self):\n",
        "    self.pay = int(self.pay * self.raise_amount)\n",
        "\n",
        "\n",
        "emp_1 = Employee('Corey', 'Schafer', 50000)\n",
        "emp_2 = Employee('Test', 'Employee', 60000)"
      ]
    },
    {
      "cell_type": "code",
      "source": [
        "import datetime\n",
        "\n",
        "my_date = datetime.date(2022, 4, 9)\n",
        "\n",
        "print(Employee.is_workday(my_date))\n",
        "\n",
        "\n"
      ],
      "metadata": {
        "colab": {
          "base_uri": "https://localhost:8080/"
        },
        "id": "cDYvTbflbwaP",
        "outputId": "95ed8193-e024-4313-da9d-1d8ae515f6b0"
      },
      "execution_count": 2,
      "outputs": [
        {
          "output_type": "stream",
          "name": "stdout",
          "text": [
            "False\n"
          ]
        }
      ]
    },
    {
      "cell_type": "code",
      "source": [
        "#Inheritance\n",
        "\n",
        "class Developer(Employee):\n",
        "  raise_amount = 1.10\n",
        "  def __init__(self, first, last, pay, prog_lang):\n",
        "     super().__init__(first, last, pay)\n",
        "     self.prog_lang = prog_lang\n",
        "    \n",
        "\n",
        "dev_1 = Developer('Garrett', 'Osborne', '250000', 'Swift')\n",
        "\n",
        "isinstance(dev_1, Developer)\n",
        "#issubclass(Developer, Employee)"
      ],
      "metadata": {
        "colab": {
          "base_uri": "https://localhost:8080/"
        },
        "id": "XCpIt0h80hvM",
        "outputId": "0c29a999-957a-4d3f-c989-eaf812e109e8"
      },
      "execution_count": 5,
      "outputs": [
        {
          "output_type": "execute_result",
          "data": {
            "text/plain": [
              "True"
            ]
          },
          "metadata": {},
          "execution_count": 5
        }
      ]
    },
    {
      "cell_type": "code",
      "source": [
        "class Employee:\n",
        "  def __init__(self, first, last):\n",
        "    self.first = first\n",
        "    self.last = last\n",
        "   \n",
        "  @property\n",
        "  def email(self):\n",
        "    return '{}.{}@email.com'.format(self.first, self.last)\n",
        "\n",
        "  @property\n",
        "  def fullname(self):\n",
        "    return '{} {}'.format(self.first, self.last)\n",
        "\n",
        "  @fullname.setter\n",
        "  def fullname(self, name):\n",
        "    first, last = name.split(' ')\n",
        "    self.first = first\n",
        "    self.last = last\n",
        "\n",
        "\n",
        "  @fullname.deleter\n",
        "  def fullname(self):\n",
        "    print('Delete Name!')\n",
        "    self.first = None\n",
        "    self.last = None\n",
        "\n",
        "emp_1 = Employee('John', 'Smith')\n",
        "\n",
        "emp_1.fullname = 'Corey Schafer'\n",
        "\n",
        "   \n",
        "  \n",
        "\n",
        "print(emp_1.first)\n",
        "print(emp_1.email)\n",
        "print(emp_1.fullname)\n",
        "del emp_1.fullname\n",
        "print(emp_1.fullname)"
      ],
      "metadata": {
        "colab": {
          "base_uri": "https://localhost:8080/"
        },
        "id": "cxQ82z6tGRFQ",
        "outputId": "02a6277d-3ef6-4a9b-ea4f-236ac179ff93"
      },
      "execution_count": 23,
      "outputs": [
        {
          "output_type": "stream",
          "name": "stdout",
          "text": [
            "Corey\n",
            "Corey.Schafer@email.com\n",
            "Corey Schafer\n",
            "Delete Name!\n",
            "None None\n"
          ]
        }
      ]
    }
  ]
}