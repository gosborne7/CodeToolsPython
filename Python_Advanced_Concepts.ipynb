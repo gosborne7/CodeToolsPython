{
  "nbformat": 4,
  "nbformat_minor": 0,
  "metadata": {
    "colab": {
      "name": "Python_Advanced_Concepts.ipynb",
      "provenance": [],
      "collapsed_sections": [],
      "authorship_tag": "ABX9TyNgNScCLbg0GQ8dgGAffGRp",
      "include_colab_link": true
    },
    "kernelspec": {
      "name": "python3",
      "display_name": "Python 3"
    },
    "language_info": {
      "name": "python"
    }
  },
  "cells": [
    {
      "cell_type": "markdown",
      "metadata": {
        "id": "view-in-github",
        "colab_type": "text"
      },
      "source": [
        "<a href=\"https://colab.research.google.com/github/gosborne7/CodeToolsPython/blob/main/Python_Advanced_Concepts.ipynb\" target=\"_parent\"><img src=\"https://colab.research.google.com/assets/colab-badge.svg\" alt=\"Open In Colab\"/></a>"
      ]
    },
    {
      "cell_type": "code",
      "execution_count": null,
      "metadata": {
        "id": "wmNOpBldBrlH"
      },
      "outputs": [],
      "source": [
        "\n",
        "Slicing\n",
        "Itertools\n",
        "Closures\n",
        "Lambdas\n",
        "Hashability\n",
        "zip()\n",
        "Decorators\n",
        "Generators\n",
        "Concurrency\n",
        "Comprehensions\n",
        "Context managers\n",
        "\n",
        "\n",
        "Logging\n",
        "Type hints\n",
        "Data classes\n",
        "Enumeration\n",
        "Pattern matching\n",
        "Exception handling\n",
        "Regular expressions\n",
        "Async programming\n",
        "Functional programming\n",
        "\n",
        "Dunder methods\n",
        "*args, **kwargs\n",
        "map(), filter(), reduce()\n",
        "Ternary Operators\n",
        "Coroutines\n",
        "Enumerate\n",
        "\n",
        "\n",
        "dist()"
      ]
    },
    {
      "cell_type": "markdown",
      "source": [
        ""
      ],
      "metadata": {
        "id": "uXN7kyPBClaF"
      }
    }
  ]
}