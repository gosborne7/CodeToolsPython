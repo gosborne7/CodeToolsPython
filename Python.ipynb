{
  "nbformat": 4,
  "nbformat_minor": 0,
  "metadata": {
    "colab": {
      "name": "Python.ipynb",
      "provenance": [],
      "collapsed_sections": []
    },
    "kernelspec": {
      "name": "python3",
      "display_name": "Python 3"
    },
    "language_info": {
      "name": "python"
    }
  },
  "cells": [
    {
      "cell_type": "code",
      "source": [
        "## Optional Parameters\n",
        "\n",
        "def func(a=1,b=1): # If you make a or b = to some value you have a default if you don't specify a value in the function call\n",
        "  return a **2 + b **2"
      ],
      "metadata": {
        "id": "VzHpxFGFyCqz"
      },
      "execution_count": 5,
      "outputs": []
    },
    {
      "cell_type": "code",
      "source": [
        "func(2,3)"
      ],
      "metadata": {
        "colab": {
          "base_uri": "https://localhost:8080/"
        },
        "id": "eM_c43AQzFIM",
        "outputId": "4a0bc5c5-a3b4-4dc0-a8a3-cfff9203e893"
      },
      "execution_count": 6,
      "outputs": [
        {
          "output_type": "execute_result",
          "data": {
            "text/plain": [
              "13"
            ]
          },
          "metadata": {},
          "execution_count": 6
        }
      ]
    },
    {
      "cell_type": "code",
      "source": [
        "func()"
      ],
      "metadata": {
        "colab": {
          "base_uri": "https://localhost:8080/"
        },
        "id": "4grw4xxtzVud",
        "outputId": "6239fc35-cb69-497f-be20-317ba6fe9330"
      },
      "execution_count": 7,
      "outputs": [
        {
          "output_type": "execute_result",
          "data": {
            "text/plain": [
              "2"
            ]
          },
          "metadata": {},
          "execution_count": 7
        }
      ]
    },
    {
      "cell_type": "code",
      "source": [
        "## Static and Class Methods\n",
        "class person(object):\n",
        "  population = 50\n",
        "  \n",
        "  def __init__(self, name, age):\n",
        "    self.name = name\n",
        "    self.age = age\n",
        "  \n",
        "  \n",
        "  @staticmethod\n",
        "  def isAdult(age):\n",
        "    return age >= 18\n",
        "\n",
        "  @classmethod\n",
        "  def getPopulation(cls):\n",
        "    return cls.population\n",
        "\n",
        "  def display(self):\n",
        "    print(self.name, 'is ', self.age, ' years old')\n",
        "\n",
        "  "
      ],
      "metadata": {
        "id": "XZN0CxRC1fSB"
      },
      "execution_count": 9,
      "outputs": []
    },
    {
      "cell_type": "code",
      "source": [
        "newPerson = person('tim', 18)"
      ],
      "metadata": {
        "id": "bN44aGgO3CTZ"
      },
      "execution_count": 10,
      "outputs": []
    },
    {
      "cell_type": "code",
      "source": [
        "# Map function\n",
        "\n",
        "numbers = [2, 4, 6, 8, 10]\n",
        "\n",
        "# returns square of a number\n",
        "def square(number):\n",
        "  return number * number\n",
        "\n",
        "# apply square() function to each item of the numbers list\n",
        "squared_numbers_iterator = map(square, numbers)\n",
        "\n",
        "# converting to list\n",
        "squared_numbers = list(squared_numbers_iterator)\n",
        "print(squared_numbers)\n",
        "\n",
        "# Output: [4, 16, 36, 64, 100]"
      ],
      "metadata": {
        "colab": {
          "base_uri": "https://localhost:8080/"
        },
        "id": "NVd6q5d17Sqq",
        "outputId": "70fbe87d-de65-454d-dfa7-7d241ebaa9dd"
      },
      "execution_count": 11,
      "outputs": [
        {
          "output_type": "stream",
          "name": "stdout",
          "text": [
            "[4, 16, 36, 64, 100]\n"
          ]
        }
      ]
    },
    {
      "cell_type": "code",
      "source": [
        "# Filter function\n",
        "\n",
        "numbers = [1, 2, 3, 4, 5, 6, 7, 8, 9, 10]\n",
        "\n",
        "# returns True if number is even\n",
        "def check_even(number):\n",
        "    if number % 2 == 0:\n",
        "          return True  \n",
        "\n",
        "    return False\n",
        "\n",
        "# Extract elements from the numbers list for which check_even() returns True\n",
        "even_numbers_iterator = filter(check_even, numbers)\n",
        "\n",
        "# converting to list\n",
        "even_numbers = list(even_numbers_iterator)\n",
        "\n",
        "print(even_numbers)\n",
        "\n",
        "# Output: [2, 4, 6, 8, 10]"
      ],
      "metadata": {
        "colab": {
          "base_uri": "https://localhost:8080/"
        },
        "id": "88jxZrRd7cDF",
        "outputId": "06e90402-84a6-496e-c03b-7be046ebe5ae"
      },
      "execution_count": 12,
      "outputs": [
        {
          "output_type": "stream",
          "name": "stdout",
          "text": [
            "[2, 4, 6, 8, 10]\n"
          ]
        }
      ]
    },
    {
      "cell_type": "code",
      "source": [
        "## Lambda Function\n",
        "\n",
        "def func(x):\n",
        "  return x + 5\n",
        "\n",
        "func2 = lambda x: x+5 # this is a shortcut for func(x) expression on one line\n",
        "\n",
        "print(func(2))"
      ],
      "metadata": {
        "colab": {
          "base_uri": "https://localhost:8080/"
        },
        "id": "10Sp1qbK9CVQ",
        "outputId": "c123a096-4d4a-460a-e8b5-516ca204bb04"
      },
      "execution_count": 13,
      "outputs": [
        {
          "output_type": "stream",
          "name": "stdout",
          "text": [
            "7\n"
          ]
        }
      ]
    },
    {
      "cell_type": "code",
      "source": [
        "## Lambda with Map and Filter Functions\n",
        "\n",
        "a = [1,2,3,4,5,6,7,8,9,10]\n",
        "\n",
        "#newList = list(map(lambda x: x+5, a))\n",
        "\n",
        "#print(newList)\n",
        "\n",
        "newListFilter = list(filter(lambda x: x%2==0, a))\n",
        "\n",
        "print(newListFilter)"
      ],
      "metadata": {
        "colab": {
          "base_uri": "https://localhost:8080/"
        },
        "id": "7ze9c-cXB3l_",
        "outputId": "232d935f-ef68-472b-9fb0-6207023bf817"
      },
      "execution_count": 19,
      "outputs": [
        {
          "output_type": "stream",
          "name": "stdout",
          "text": [
            "[2, 4, 6, 8, 10]\n"
          ]
        }
      ]
    },
    {
      "cell_type": "code",
      "source": [
        "## Collections Using Counter\n",
        "\n",
        "import collections\n",
        "from collections import Counter\n",
        "\n",
        "Counter(\"mississippi\")\n",
        "Counter({'i': 4, 's': 4, 'p': 2, 'm': 1})\n",
        "\n",
        "# Use a list as an argument\n",
        "c = Counter(list(\"mississippi\"))\n",
        "\n",
        "print(c.most_common(2))\n",
        "c = Counter()\n",
        "\n",
        "c.clear() # clears counter object\n",
        "print(c)"
      ],
      "metadata": {
        "colab": {
          "base_uri": "https://localhost:8080/"
        },
        "id": "UGO-8CMHDwkW",
        "outputId": "60e4cb13-f4b5-4fa3-8207-ac7f68b97688"
      },
      "execution_count": 32,
      "outputs": [
        {
          "output_type": "stream",
          "name": "stdout",
          "text": [
            "[('i', 4), ('s', 4)]\n",
            "Counter()\n"
          ]
        }
      ]
    },
    {
      "cell_type": "code",
      "source": [
        "## Collections deque\n",
        "\n",
        "# Deque (Doubly Ended Queue) in Python is implemented using the module “collections“. Deque is preferred over a list in \n",
        "# the cases where we need quicker append and pop operations from both the ends of the container, \n",
        "# as deque provides an O(1) time complexity for append and pop operations as compared to list which provides O(n) time complexity.\n",
        "\n",
        "\n",
        "import collections\n",
        "from collections import deque\n",
        "\n",
        "de = collections.deque([1,2,3])\n",
        " \n",
        "# using append() to insert element at right end\n",
        "# inserts 4 at the end of deque\n",
        "de.append(4)\n",
        " \n",
        "# printing modified deque\n",
        "print (\"The deque after appending at right is : \")\n",
        "print (de)\n",
        " \n",
        "# using appendleft() to insert element at left end\n",
        "# inserts 6 at the beginning of deque\n",
        "de.appendleft(6)\n",
        " \n",
        "# printing modified deque\n",
        "print (\"The deque after appending at left is : \")\n",
        "print (de)\n",
        " \n",
        "# using pop() to delete element from right end\n",
        "# deletes 4 from the right end of deque\n",
        "de.pop()\n",
        " \n",
        "# printing modified deque\n",
        "print (\"The deque after deleting from right is : \")\n",
        "print (de)\n",
        " \n",
        "# using popleft() to delete element from left end\n",
        "# deletes 6 from the left end of deque\n",
        "de.popleft()"
      ],
      "metadata": {
        "colab": {
          "base_uri": "https://localhost:8080/"
        },
        "id": "cJmFDm7PLCrU",
        "outputId": "842d4821-e75f-44cd-ecdf-09a721498702"
      },
      "execution_count": 34,
      "outputs": [
        {
          "output_type": "stream",
          "name": "stdout",
          "text": [
            "The deque after appending at right is : \n",
            "deque([1, 2, 3, 4])\n",
            "The deque after appending at left is : \n",
            "deque([6, 1, 2, 3, 4])\n",
            "The deque after deleting from right is : \n",
            "deque([6, 1, 2, 3])\n"
          ]
        },
        {
          "output_type": "execute_result",
          "data": {
            "text/plain": [
              "6"
            ]
          },
          "metadata": {},
          "execution_count": 34
        }
      ]
    }
  ]
}